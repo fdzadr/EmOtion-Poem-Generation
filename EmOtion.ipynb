{
 "cells": [
  {
   "cell_type": "code",
   "execution_count": 6,
   "metadata": {},
   "outputs": [
    {
     "name": "stdout",
     "output_type": "stream",
     "text": [
      "2.14.0\n"
     ]
    }
   ],
   "source": [
    "import tensorflow as tf\n",
    "print(tf.__version__)"
   ]
  },
  {
   "cell_type": "markdown",
   "metadata": {},
   "source": [
    "<h3>Read Text</h3>"
   ]
  },
  {
   "cell_type": "code",
   "execution_count": 7,
   "metadata": {},
   "outputs": [
    {
     "name": "stdout",
     "output_type": "stream",
     "text": [
      "Corpus len =  4557\n",
      "\n",
      "5 rows in corpus : \n",
      "looking for some education\n",
      "made my way into the night\n",
      "all that bullshit conversation\n",
      "baby, cannot you read the signs? i will not bore you with the details, baby\n",
      "i do not even wanna waste your time\n"
     ]
    }
   ],
   "source": [
    "# Open file\n",
    "with open(r'../Dataset/poem.txt', 'r') as file:\n",
    "    data = file.read()\n",
    "\n",
    "# Lowercase and save as list\n",
    "corpus = data.lower().split(\"\\n\")\n",
    "\n",
    "# Corpus length\n",
    "print(\"Corpus len = \", len(corpus))\n",
    "\n",
    "print(\"\")\n",
    "\n",
    "print(\"5 rows in corpus : \")\n",
    "for i in range(5):\n",
    "    print(corpus[i])\n"
   ]
  },
  {
   "cell_type": "markdown",
   "metadata": {},
   "source": [
    "<h3>Tokenize Corpus</h3>"
   ]
  },
  {
   "cell_type": "code",
   "execution_count": 8,
   "metadata": {},
   "outputs": [],
   "source": [
    "tokenizer = tf.keras.preprocessing.text.Tokenizer(oov_token='<OOV>')\n",
    "\n",
    "tokenizer.fit_on_texts(corpus)"
   ]
  },
  {
   "cell_type": "code",
   "execution_count": 9,
   "metadata": {},
   "outputs": [
    {
     "data": {
      "text/plain": [
       "[118, 7, 119, 191, 4, 121]"
      ]
     },
     "execution_count": 9,
     "metadata": {},
     "output_type": "execute_result"
    }
   ],
   "source": [
    "tokenizer.texts_to_sequences([corpus[1]])[0]"
   ]
  },
  {
   "cell_type": "markdown",
   "metadata": {},
   "source": [
    "<h3>Sequence n-gram"
   ]
  },
  {
   "cell_type": "code",
   "execution_count": 10,
   "metadata": {},
   "outputs": [],
   "source": [
    "def n_gram_seqs(corpus, tokenizer):\n",
    "    input_sequences = []\n",
    "\n",
    "    for line in corpus:\n",
    "      token_list = tokenizer.texts_to_sequences([line])[0]\n",
    "\n",
    "      for i in range(1, len(token_list)):\n",
    "        n_gram_sequence = token_list[:i+1]\n",
    "\n",
    "        input_sequences.append(n_gram_sequence)\n",
    "\n",
    "    return input_sequences"
   ]
  },
  {
   "cell_type": "markdown",
   "metadata": {},
   "source": [
    "Example of sequence n-gram"
   ]
  },
  {
   "cell_type": "code",
   "execution_count": 11,
   "metadata": {},
   "outputs": [
    {
     "name": "stdout",
     "output_type": "stream",
     "text": [
      "n_gram sequences:\n",
      "\n"
     ]
    },
    {
     "data": {
      "text/plain": [
       "[[118, 7],\n",
       " [118, 7, 119],\n",
       " [118, 7, 119, 191],\n",
       " [118, 7, 119, 191, 4],\n",
       " [118, 7, 119, 191, 4, 121]]"
      ]
     },
     "execution_count": 11,
     "metadata": {},
     "output_type": "execute_result"
    }
   ],
   "source": [
    "example_n_gram = n_gram_seqs([corpus[1]], tokenizer)\n",
    "\n",
    "print(\"n_gram sequences:\\n\")\n",
    "example_n_gram"
   ]
  },
  {
   "cell_type": "markdown",
   "metadata": {},
   "source": [
    "Apply sequence n_gram to whole corpus"
   ]
  },
  {
   "cell_type": "code",
   "execution_count": 14,
   "metadata": {},
   "outputs": [
    {
     "name": "stdout",
     "output_type": "stream",
     "text": [
      "n_grams of corpus_n_gram have length: 33048\n",
      "maximum length of sequences is: 130\n"
     ]
    }
   ],
   "source": [
    "corpus_n_gram = n_gram_seqs(corpus, tokenizer)\n",
    "\n",
    "# Save max length\n",
    "max_corpus_n_gram = max([len(x) for x in corpus])\n",
    "\n",
    "print(f\"n_grams of corpus_n_gram have length: {len(corpus_n_gram)}\")\n",
    "print(f\"maximum length of sequences is: {max_corpus_n_gram}\")"
   ]
  },
  {
   "cell_type": "markdown",
   "metadata": {},
   "source": [
    "<h3>Padding sequence"
   ]
  },
  {
   "cell_type": "code",
   "execution_count": 15,
   "metadata": {},
   "outputs": [],
   "source": [
    "def pads_sequences(input_sequences, maxlen):\n",
    "    pads = tf.keras.preprocessing.sequence.pad_sequences(input_sequences, maxlen=maxlen, padding=\"pre\")\n",
    "\n",
    "    return pads"
   ]
  },
  {
   "cell_type": "markdown",
   "metadata": {},
   "source": [
    "Example of padding sequence"
   ]
  },
  {
   "cell_type": "code",
   "execution_count": 16,
   "metadata": {},
   "outputs": [
    {
     "data": {
      "text/plain": [
       "array([[  0,   0,   0,   0, 118,   7],\n",
       "       [  0,   0,   0, 118,   7, 119],\n",
       "       [  0,   0, 118,   7, 119, 191],\n",
       "       [  0, 118,   7, 119, 191,   4],\n",
       "       [118,   7, 119, 191,   4, 121]])"
      ]
     },
     "execution_count": 16,
     "metadata": {},
     "output_type": "execute_result"
    }
   ],
   "source": [
    "example_pads = pads_sequences(example_n_gram, max([len(x) for x in example_n_gram]))\n",
    "example_pads"
   ]
  },
  {
   "cell_type": "markdown",
   "metadata": {},
   "source": [
    "Applying padding sequence to whole corpus"
   ]
  },
  {
   "cell_type": "code",
   "execution_count": 17,
   "metadata": {},
   "outputs": [
    {
     "name": "stdout",
     "output_type": "stream",
     "text": [
      "padded corpus has shape: (33048, 130)\n"
     ]
    }
   ],
   "source": [
    "corpus_padding = pads_sequences(corpus_n_gram, max_corpus_n_gram)\n",
    "print(f\"padded corpus has shape: {corpus_padding.shape}\")"
   ]
  },
  {
   "cell_type": "markdown",
   "metadata": {},
   "source": [
    "<h3>Split data to feature and label"
   ]
  },
  {
   "cell_type": "code",
   "execution_count": 18,
   "metadata": {},
   "outputs": [
    {
     "name": "stdout",
     "output_type": "stream",
     "text": [
      "3855\n"
     ]
    }
   ],
   "source": [
    "total_words = len(tokenizer.word_index) + 1\n",
    "\n",
    "print(total_words)"
   ]
  },
  {
   "cell_type": "code",
   "execution_count": 19,
   "metadata": {},
   "outputs": [],
   "source": [
    "def split(input_sequences, total_words):\n",
    "    features = input_sequences[:, :-1]\n",
    "    labels = input_sequences[:, -1]\n",
    "    one_hot_labels = tf.keras.utils.to_categorical(labels, num_classes=total_words)\n",
    "\n",
    "    return features, one_hot_labels"
   ]
  },
  {
   "cell_type": "code",
   "execution_count": 20,
   "metadata": {},
   "outputs": [
    {
     "name": "stdout",
     "output_type": "stream",
     "text": [
      "labels have shape: (5, 3855)\n",
      "\n",
      "new features after label removed:\n",
      "\n"
     ]
    },
    {
     "data": {
      "text/plain": [
       "array([[  0,   0,   0,   0, 118],\n",
       "       [  0,   0,   0, 118,   7],\n",
       "       [  0,   0, 118,   7, 119],\n",
       "       [  0, 118,   7, 119, 191],\n",
       "       [118,   7, 119, 191,   4]])"
      ]
     },
     "execution_count": 20,
     "metadata": {},
     "output_type": "execute_result"
    }
   ],
   "source": [
    "feature_example, label_example = split(example_pads, total_words)\n",
    "\n",
    "print(f\"labels have shape: {label_example.shape}\")\n",
    "print(\"\\nnew features after label removed:\\n\")\n",
    "feature_example"
   ]
  },
  {
   "cell_type": "code",
   "execution_count": 21,
   "metadata": {},
   "outputs": [
    {
     "name": "stdout",
     "output_type": "stream",
     "text": [
      "features have shape: (33048, 129)\n",
      "labels have shape: (33048, 3855)\n"
     ]
    }
   ],
   "source": [
    "# Split the whole corpus\n",
    "features, labels = split(corpus_padding, total_words)\n",
    "\n",
    "print(f\"features have shape: {features.shape}\")\n",
    "print(f\"labels have shape: {labels.shape}\")"
   ]
  },
  {
   "cell_type": "markdown",
   "metadata": {},
   "source": [
    "<h3>Create model"
   ]
  },
  {
   "cell_type": "code",
   "execution_count": 22,
   "metadata": {},
   "outputs": [],
   "source": [
    "def create_model(total_words, max_corpus_n_gram):\n",
    "    model = tf.keras.models.Sequential([\n",
    "        tf.keras.layers.Embedding(total_words, 100, input_length=max_corpus_n_gram-1),\n",
    "        # tf.keras.layers.GlobalAveragePooling1D(),\n",
    "        # tf.keras.layers.Dropout(0.2),\n",
    "        tf.keras.layers.Bidirectional(tf.keras.layers.LSTM(units=64)),\n",
    "        # tf.keras.layers.LSTM(units=64, activation='relu'),\n",
    "        # tf.keras.layers.Dense(units=64, activation='relu'),\n",
    "        tf.keras.layers.Dense(units=total_words, activation='softmax')\n",
    "    ])\n",
    "\n",
    "    # Compile the model\n",
    "    model.compile(loss='categorical_crossentropy',\n",
    "                  optimizer=tf.keras.optimizers.Adam(),\n",
    "                  metrics=['accuracy'])\n",
    "    \n",
    "    return model"
   ]
  },
  {
   "cell_type": "markdown",
   "metadata": {},
   "source": [
    "Model summary"
   ]
  },
  {
   "cell_type": "code",
   "execution_count": 23,
   "metadata": {},
   "outputs": [
    {
     "name": "stdout",
     "output_type": "stream",
     "text": [
      "Model: \"sequential\"\n",
      "_________________________________________________________________\n",
      " Layer (type)                Output Shape              Param #   \n",
      "=================================================================\n",
      " embedding (Embedding)       (None, 129, 100)          385500    \n",
      "                                                                 \n",
      " bidirectional (Bidirection  (None, 128)               84480     \n",
      " al)                                                             \n",
      "                                                                 \n",
      " dense (Dense)               (None, 3855)              497295    \n",
      "                                                                 \n",
      "=================================================================\n",
      "Total params: 967275 (3.69 MB)\n",
      "Trainable params: 967275 (3.69 MB)\n",
      "Non-trainable params: 0 (0.00 Byte)\n",
      "_________________________________________________________________\n"
     ]
    }
   ],
   "source": [
    "model = create_model(total_words, max_corpus_n_gram)\n",
    "\n",
    "model.summary()"
   ]
  },
  {
   "cell_type": "markdown",
   "metadata": {},
   "source": [
    "Train model"
   ]
  },
  {
   "cell_type": "code",
   "execution_count": 24,
   "metadata": {},
   "outputs": [
    {
     "name": "stdout",
     "output_type": "stream",
     "text": [
      "Epoch 1/100\n",
      "1033/1033 [==============================] - 102s 96ms/step - loss: 6.4035 - accuracy: 0.0385\n",
      "Epoch 2/100\n",
      "1033/1033 [==============================] - 112s 109ms/step - loss: 5.8599 - accuracy: 0.0657\n",
      "Epoch 3/100\n",
      "1033/1033 [==============================] - 111s 108ms/step - loss: 5.4634 - accuracy: 0.1008\n",
      "Epoch 4/100\n",
      "1033/1033 [==============================] - 113s 109ms/step - loss: 5.1266 - accuracy: 0.1345\n",
      "Epoch 5/100\n",
      "1033/1033 [==============================] - 111s 108ms/step - loss: 4.8415 - accuracy: 0.1629\n",
      "Epoch 6/100\n",
      "1033/1033 [==============================] - 112s 108ms/step - loss: 4.5951 - accuracy: 0.1852\n",
      "Epoch 7/100\n",
      "1033/1033 [==============================] - 113s 110ms/step - loss: 4.3718 - accuracy: 0.2109\n",
      "Epoch 8/100\n",
      "1033/1033 [==============================] - 113s 109ms/step - loss: 4.1644 - accuracy: 0.2347\n",
      "Epoch 9/100\n",
      "1033/1033 [==============================] - 114s 111ms/step - loss: 3.9722 - accuracy: 0.2560\n",
      "Epoch 10/100\n",
      "1033/1033 [==============================] - 111s 108ms/step - loss: 3.7925 - accuracy: 0.2783\n",
      "Epoch 11/100\n",
      "1033/1033 [==============================] - 112s 108ms/step - loss: 3.6212 - accuracy: 0.3021\n",
      "Epoch 12/100\n",
      "1033/1033 [==============================] - 116s 112ms/step - loss: 3.4608 - accuracy: 0.3240\n",
      "Epoch 13/100\n",
      "1033/1033 [==============================] - 114s 111ms/step - loss: 3.3077 - accuracy: 0.3473\n",
      "Epoch 14/100\n",
      "1033/1033 [==============================] - 112s 108ms/step - loss: 3.1633 - accuracy: 0.3691\n",
      "Epoch 15/100\n",
      "1033/1033 [==============================] - 112s 108ms/step - loss: 3.0259 - accuracy: 0.3943\n",
      "Epoch 16/100\n",
      "1033/1033 [==============================] - 112s 108ms/step - loss: 2.9007 - accuracy: 0.4157\n",
      "Epoch 17/100\n",
      "1033/1033 [==============================] - 111s 108ms/step - loss: 2.7810 - accuracy: 0.4372\n",
      "Epoch 18/100\n",
      "1033/1033 [==============================] - 111s 107ms/step - loss: 2.6702 - accuracy: 0.4571\n",
      "Epoch 19/100\n",
      "1033/1033 [==============================] - 114s 111ms/step - loss: 2.5703 - accuracy: 0.4772\n",
      "Epoch 20/100\n",
      "1033/1033 [==============================] - 111s 108ms/step - loss: 2.4769 - accuracy: 0.4934\n",
      "Epoch 21/100\n",
      "1033/1033 [==============================] - 111s 108ms/step - loss: 2.3891 - accuracy: 0.5093\n",
      "Epoch 22/100\n",
      "1033/1033 [==============================] - 112s 108ms/step - loss: 2.3058 - accuracy: 0.5241\n",
      "Epoch 23/100\n",
      "1033/1033 [==============================] - 112s 109ms/step - loss: 2.2312 - accuracy: 0.5373\n",
      "Epoch 24/100\n",
      "1033/1033 [==============================] - 112s 108ms/step - loss: 2.1587 - accuracy: 0.5513\n",
      "Epoch 25/100\n",
      "1033/1033 [==============================] - 112s 108ms/step - loss: 2.0915 - accuracy: 0.5649\n",
      "Epoch 26/100\n",
      "1033/1033 [==============================] - 112s 108ms/step - loss: 2.0275 - accuracy: 0.5750\n",
      "Epoch 27/100\n",
      "1033/1033 [==============================] - 112s 109ms/step - loss: 1.9685 - accuracy: 0.5885\n",
      "Epoch 28/100\n",
      "1033/1033 [==============================] - 113s 109ms/step - loss: 1.9122 - accuracy: 0.5978\n",
      "Epoch 29/100\n",
      "1033/1033 [==============================] - 113s 110ms/step - loss: 1.8593 - accuracy: 0.6115\n",
      "Epoch 30/100\n",
      "1033/1033 [==============================] - 114s 110ms/step - loss: 1.8089 - accuracy: 0.6174\n",
      "Epoch 31/100\n",
      "1033/1033 [==============================] - 115s 111ms/step - loss: 1.7623 - accuracy: 0.6268\n",
      "Epoch 32/100\n",
      "1033/1033 [==============================] - 115s 111ms/step - loss: 1.7157 - accuracy: 0.6355\n",
      "Epoch 33/100\n",
      "1033/1033 [==============================] - 115s 111ms/step - loss: 1.6785 - accuracy: 0.6460\n",
      "Epoch 34/100\n",
      "1033/1033 [==============================] - 118s 114ms/step - loss: 1.6331 - accuracy: 0.6537\n",
      "Epoch 35/100\n",
      "1033/1033 [==============================] - 116s 113ms/step - loss: 1.5966 - accuracy: 0.6612\n",
      "Epoch 36/100\n",
      "1033/1033 [==============================] - 113s 110ms/step - loss: 1.5603 - accuracy: 0.6672\n",
      "Epoch 37/100\n",
      "1033/1033 [==============================] - 114s 110ms/step - loss: 1.5237 - accuracy: 0.6748\n",
      "Epoch 38/100\n",
      "1033/1033 [==============================] - 114s 111ms/step - loss: 1.4914 - accuracy: 0.6804\n",
      "Epoch 39/100\n",
      "1033/1033 [==============================] - 115s 112ms/step - loss: 1.4608 - accuracy: 0.6866\n",
      "Epoch 40/100\n",
      "1033/1033 [==============================] - 114s 110ms/step - loss: 1.4294 - accuracy: 0.6929\n",
      "Epoch 41/100\n",
      "1033/1033 [==============================] - 114s 110ms/step - loss: 1.4020 - accuracy: 0.6978\n",
      "Epoch 42/100\n",
      "1033/1033 [==============================] - 113s 110ms/step - loss: 1.3743 - accuracy: 0.7025\n",
      "Epoch 43/100\n",
      "1033/1033 [==============================] - 115s 112ms/step - loss: 1.3462 - accuracy: 0.7082\n",
      "Epoch 44/100\n",
      "1033/1033 [==============================] - 114s 110ms/step - loss: 1.3219 - accuracy: 0.7133\n",
      "Epoch 45/100\n",
      "1033/1033 [==============================] - 114s 110ms/step - loss: 1.2986 - accuracy: 0.7172\n",
      "Epoch 46/100\n",
      "1033/1033 [==============================] - 114s 111ms/step - loss: 1.2739 - accuracy: 0.7215\n",
      "Epoch 47/100\n",
      "1033/1033 [==============================] - 114s 111ms/step - loss: 1.2516 - accuracy: 0.7272\n",
      "Epoch 48/100\n",
      "1033/1033 [==============================] - 115s 111ms/step - loss: 1.2306 - accuracy: 0.7297\n",
      "Epoch 49/100\n",
      "1033/1033 [==============================] - 114s 110ms/step - loss: 1.2103 - accuracy: 0.7348\n",
      "Epoch 50/100\n",
      "1033/1033 [==============================] - 114s 110ms/step - loss: 1.1891 - accuracy: 0.7380\n",
      "Epoch 51/100\n",
      "1033/1033 [==============================] - 115s 111ms/step - loss: 1.1713 - accuracy: 0.7427\n",
      "Epoch 52/100\n",
      "1033/1033 [==============================] - 114s 111ms/step - loss: 1.1546 - accuracy: 0.7439\n",
      "Epoch 53/100\n",
      "1033/1033 [==============================] - 113s 110ms/step - loss: 1.1357 - accuracy: 0.7486\n",
      "Epoch 54/100\n",
      "1033/1033 [==============================] - 114s 110ms/step - loss: 1.1207 - accuracy: 0.7500\n",
      "Epoch 55/100\n",
      "1033/1033 [==============================] - 113s 110ms/step - loss: 1.1044 - accuracy: 0.7546\n",
      "Epoch 56/100\n",
      "1033/1033 [==============================] - 113s 110ms/step - loss: 1.0873 - accuracy: 0.7587\n",
      "Epoch 57/100\n",
      "1033/1033 [==============================] - 113s 109ms/step - loss: 1.0721 - accuracy: 0.7619\n",
      "Epoch 58/100\n",
      "1033/1033 [==============================] - 114s 110ms/step - loss: 1.0576 - accuracy: 0.7643\n",
      "Epoch 59/100\n",
      "1033/1033 [==============================] - 113s 110ms/step - loss: 1.0453 - accuracy: 0.7661\n",
      "Epoch 60/100\n",
      "1033/1033 [==============================] - 114s 110ms/step - loss: 1.0317 - accuracy: 0.7695\n",
      "Epoch 61/100\n",
      "1033/1033 [==============================] - 113s 110ms/step - loss: 1.0186 - accuracy: 0.7717\n",
      "Epoch 62/100\n",
      "1033/1033 [==============================] - 114s 110ms/step - loss: 1.0055 - accuracy: 0.7751\n",
      "Epoch 63/100\n",
      "1033/1033 [==============================] - 129s 125ms/step - loss: 0.9932 - accuracy: 0.7777\n",
      "Epoch 64/100\n",
      "1033/1033 [==============================] - 136s 132ms/step - loss: 0.9818 - accuracy: 0.7791\n",
      "Epoch 65/100\n",
      "1033/1033 [==============================] - 139s 134ms/step - loss: 0.9702 - accuracy: 0.7814\n",
      "Epoch 66/100\n",
      "1033/1033 [==============================] - 139s 135ms/step - loss: 0.9603 - accuracy: 0.7820\n",
      "Epoch 67/100\n",
      "1033/1033 [==============================] - 138s 134ms/step - loss: 0.9498 - accuracy: 0.7848\n",
      "Epoch 68/100\n",
      "1033/1033 [==============================] - 137s 132ms/step - loss: 0.9385 - accuracy: 0.7866\n",
      "Epoch 69/100\n",
      "1033/1033 [==============================] - 137s 133ms/step - loss: 0.9305 - accuracy: 0.7870\n",
      "Epoch 70/100\n",
      "1033/1033 [==============================] - 137s 133ms/step - loss: 0.9192 - accuracy: 0.7904\n",
      "Epoch 71/100\n",
      "1033/1033 [==============================] - 138s 133ms/step - loss: 0.9093 - accuracy: 0.7919\n",
      "Epoch 72/100\n",
      "1033/1033 [==============================] - 138s 133ms/step - loss: 0.9013 - accuracy: 0.7941\n",
      "Epoch 73/100\n",
      "1033/1033 [==============================] - 139s 135ms/step - loss: 0.8912 - accuracy: 0.7950\n",
      "Epoch 74/100\n",
      "1033/1033 [==============================] - 139s 134ms/step - loss: 0.8845 - accuracy: 0.7983\n",
      "Epoch 75/100\n",
      "1033/1033 [==============================] - 138s 134ms/step - loss: 0.8769 - accuracy: 0.7987\n",
      "Epoch 76/100\n",
      "1033/1033 [==============================] - 140s 136ms/step - loss: 0.8673 - accuracy: 0.7998\n",
      "Epoch 77/100\n",
      "1033/1033 [==============================] - 138s 134ms/step - loss: 0.8628 - accuracy: 0.8008\n",
      "Epoch 78/100\n",
      "1033/1033 [==============================] - 139s 135ms/step - loss: 0.8533 - accuracy: 0.8009\n",
      "Epoch 79/100\n",
      "1033/1033 [==============================] - 138s 134ms/step - loss: 0.8461 - accuracy: 0.8041\n",
      "Epoch 80/100\n",
      "1033/1033 [==============================] - 139s 134ms/step - loss: 0.8390 - accuracy: 0.8054\n",
      "Epoch 81/100\n",
      "1033/1033 [==============================] - 138s 133ms/step - loss: 0.8328 - accuracy: 0.8056\n",
      "Epoch 82/100\n",
      "1033/1033 [==============================] - 137s 133ms/step - loss: 0.8262 - accuracy: 0.8072\n",
      "Epoch 83/100\n",
      "1033/1033 [==============================] - 138s 134ms/step - loss: 0.8207 - accuracy: 0.8096\n",
      "Epoch 84/100\n",
      "1033/1033 [==============================] - 140s 136ms/step - loss: 0.8158 - accuracy: 0.8088\n",
      "Epoch 85/100\n",
      "1033/1033 [==============================] - 140s 136ms/step - loss: 0.8091 - accuracy: 0.8107\n",
      "Epoch 86/100\n",
      "1033/1033 [==============================] - 139s 135ms/step - loss: 0.8002 - accuracy: 0.8129\n",
      "Epoch 87/100\n",
      "1033/1033 [==============================] - 138s 133ms/step - loss: 0.7952 - accuracy: 0.8153\n",
      "Epoch 88/100\n",
      "1033/1033 [==============================] - 140s 135ms/step - loss: 0.7902 - accuracy: 0.8129\n",
      "Epoch 89/100\n",
      "1033/1033 [==============================] - 138s 133ms/step - loss: 0.7862 - accuracy: 0.8146\n",
      "Epoch 90/100\n",
      "1033/1033 [==============================] - 138s 134ms/step - loss: 0.7814 - accuracy: 0.8145\n",
      "Epoch 91/100\n",
      "1033/1033 [==============================] - 138s 134ms/step - loss: 0.7775 - accuracy: 0.8152\n",
      "Epoch 92/100\n",
      "1033/1033 [==============================] - 138s 133ms/step - loss: 0.7689 - accuracy: 0.8168\n",
      "Epoch 93/100\n",
      "1033/1033 [==============================] - 139s 135ms/step - loss: 0.7662 - accuracy: 0.8185\n",
      "Epoch 94/100\n",
      "1033/1033 [==============================] - 139s 134ms/step - loss: 0.7623 - accuracy: 0.8183\n",
      "Epoch 95/100\n",
      "1033/1033 [==============================] - 139s 135ms/step - loss: 0.7536 - accuracy: 0.8217\n",
      "Epoch 96/100\n",
      "1033/1033 [==============================] - 137s 133ms/step - loss: 0.7545 - accuracy: 0.8190\n",
      "Epoch 97/100\n",
      "1033/1033 [==============================] - 139s 134ms/step - loss: 0.7487 - accuracy: 0.8214\n",
      "Epoch 98/100\n",
      "1033/1033 [==============================] - 140s 135ms/step - loss: 0.7435 - accuracy: 0.8202\n",
      "Epoch 99/100\n",
      "1033/1033 [==============================] - 139s 135ms/step - loss: 0.7393 - accuracy: 0.8223\n",
      "Epoch 100/100\n",
      "1033/1033 [==============================] - 138s 133ms/step - loss: 0.7344 - accuracy: 0.8227\n"
     ]
    }
   ],
   "source": [
    "history = model.fit(features, labels, epochs=100, batch_size=32, verbose=1)"
   ]
  },
  {
   "cell_type": "markdown",
   "metadata": {},
   "source": [
    "<h3>Plot Grafik</h3>"
   ]
  },
  {
   "cell_type": "code",
   "execution_count": 25,
   "metadata": {},
   "outputs": [
    {
     "data": {
      "image/png": "[encoded data removed]",
      "text/plain": [
       "<Figure size 640x480 with 1 Axes>"
      ]
     },
     "metadata": {},
     "output_type": "display_data"
    },
    {
     "data": {
      "image/png": "[encoded data removed]",
      "text/plain": [
       "<Figure size 640x480 with 1 Axes>"
      ]
     },
     "metadata": {},
     "output_type": "display_data"
    }
   ],
   "source": [
    "import matplotlib.pyplot as plt\n",
    "\n",
    "acc = history.history['accuracy']\n",
    "loss = history.history['loss']\n",
    "\n",
    "epochs = range(len(acc))\n",
    "\n",
    "plt.plot(epochs, acc, 'b', label='Training accuracy')\n",
    "plt.title('Training accuracy')\n",
    "\n",
    "plt.figure()\n",
    "\n",
    "plt.plot(epochs, loss, 'b', label='Training Loss')\n",
    "plt.title('Training loss')\n",
    "plt.legend()\n",
    "\n",
    "plt.show()"
   ]
  },
  {
   "cell_type": "markdown",
   "metadata": {},
   "source": [
    "<h3>Test</h3>"
   ]
  },
  {
   "cell_type": "code",
   "execution_count": 26,
   "metadata": {},
   "outputs": [
    {
     "name": "stdout",
     "output_type": "stream",
     "text": [
      "i love you to be reminded you are time out of you found my friend came woah you take my head your body being told me umm you walk thee do not see\n"
     ]
    }
   ],
   "source": [
    "import numpy as np\n",
    "\n",
    "seed_text = \"i love you\"\n",
    "next_words = 30\n",
    "\n",
    "for _ in range(next_words):\n",
    "    \n",
    "    token_list = tokenizer.texts_to_sequences([seed_text])[0]\n",
    "    \n",
    "    token_list = pads_sequences([token_list], maxlen=max_corpus_n_gram-1)\n",
    "    \n",
    "    predicted = model.predict(token_list, verbose=0)\n",
    "    \n",
    "    predicted = np.argmax(predicted, axis=-1).item()\n",
    "    \n",
    "    output_word = tokenizer.index_word[predicted]\n",
    "    \n",
    "    seed_text += \" \" + output_word\n",
    "\n",
    "print(seed_text)"
   ]
  },
  {
   "cell_type": "markdown",
   "metadata": {},
   "source": [
    "<h3>Save Model</h3>"
   ]
  },
  {
   "cell_type": "code",
   "execution_count": 28,
   "metadata": {},
   "outputs": [],
   "source": [
    "model.save('model_emotion.h5')"
   ]
  },
  {
   "cell_type": "markdown",
   "metadata": {},
   "source": [
    "<h3>Save tokenizer pkl"
   ]
  },
  {
   "cell_type": "code",
   "execution_count": 29,
   "metadata": {},
   "outputs": [
    {
     "name": "stdout",
     "output_type": "stream",
     "text": [
      "Tokenizer berhasil disimpan ke dalam tokenizer.pkl\n"
     ]
    }
   ],
   "source": [
    "import pickle\n",
    "\n",
    "with open('tokenizer_emotion.pkl', 'wb') as tokenizer_file:\n",
    "    pickle.dump(tokenizer, tokenizer_file)\n",
    "\n",
    "print(\"Tokenizer berhasil disimpan ke dalam tokenizer.pkl\")"
   ]
  }
 ],
 "metadata": {
  "kernelspec": {
   "display_name": "Python 3",
   "language": "python",
   "name": "python3"
  },
  "language_info": {
   "codemirror_mode": {
    "name": "ipython",
    "version": 3
   },
   "file_extension": ".py",
   "mimetype": "text/x-python",
   "name": "python",
   "nbconvert_exporter": "python",
   "pygments_lexer": "ipython3",
   "version": "3.11.6"
  }
 },
 "nbformat": 4,
 "nbformat_minor": 2
}
